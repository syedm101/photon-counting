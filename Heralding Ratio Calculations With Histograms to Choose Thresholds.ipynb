{
 "cells": [
  {
   "cell_type": "markdown",
   "metadata": {},
   "source": [
    "1. Using scipy to import channel data into python"
   ]
  },
  {
   "cell_type": "code",
   "execution_count": 44,
   "metadata": {},
   "outputs": [],
   "source": [
    "import scipy.io\n",
    "import matplotlib.pyplot as plt\n",
    "import numpy as np\n",
    "import matplotlib"
   ]
  },
  {
   "cell_type": "code",
   "execution_count": 45,
   "metadata": {},
   "outputs": [],
   "source": [
    "matA = scipy.io.loadmat('./data/2018.10.29_18.57.37_1.A.mat')\n",
    "matB = scipy.io.loadmat('./data/2018.10.29_18.57.37_1.B.mat')"
   ]
  },
  {
   "cell_type": "markdown",
   "metadata": {},
   "source": [
    "# 1. Zero Noise threshold of Data"
   ]
  },
  {
   "cell_type": "code",
   "execution_count": 46,
   "metadata": {},
   "outputs": [
    {
     "data": {
      "text/plain": [
       "(1, 16777216)"
      ]
     },
     "execution_count": 46,
     "metadata": {},
     "output_type": "execute_result"
    }
   ],
   "source": [
    "matA['T1'].shape"
   ]
  },
  {
   "cell_type": "code",
   "execution_count": 47,
   "metadata": {},
   "outputs": [],
   "source": [
    "# This is the filtering Channel\n",
    "x1 = matB['T1'][0,:]\n",
    "y1 = matB['Y1'][0,:]"
   ]
  },
  {
   "cell_type": "code",
   "execution_count": 49,
   "metadata": {
    "scrolled": true
   },
   "outputs": [],
   "source": [
    "#%matplotlib inline\n",
    "\n",
    "plt.plot(x1[:100000],y1[:100000])\n",
    "plt.show(block=True)"
   ]
  },
  {
   "cell_type": "markdown",
   "metadata": {},
   "source": [
    "We assume the noise threshold is ???, if you decrease this, you'll see a sharp peak in the histogram in the next cell"
   ]
  },
  {
   "cell_type": "code",
   "execution_count": 50,
   "metadata": {},
   "outputs": [],
   "source": [
    "%matplotlib qt\n",
    "\n",
    "zero_level = 7950\n",
    "#we are assuming the noise threshold is at 8150\n",
    "yt_filter = np.clip(y1, a_min=zero_level,a_max=None)\n",
    "yt_filter -= zero_level\n",
    "#decrese everything by noise threshold, clip to 0\n",
    "\n",
    "plt.plot(x1,yt_filter)\n",
    "plt.show(block=True)"
   ]
  },
  {
   "cell_type": "code",
   "execution_count": 51,
   "metadata": {},
   "outputs": [],
   "source": [
    "from scipy.signal import find_peaks\n",
    "\n",
    "filter_peaks, _ = find_peaks(yt_filter, height=0,distance=15) #peaks are the x indices\n",
    "\n",
    "plt.figure()\n",
    "# plot graph with detected peaks over it\n",
    "plt.plot(x1,yt_filter)\n",
    "plt.plot(x1[filter_peaks], yt_filter[filter_peaks], \"x\")\n",
    "\n",
    "#formatting\n",
    "plt.xticks(rotation='vertical')\n",
    "plt.xlabel(\"Time (s)\")\n",
    "plt.show(block=True)\n",
    "\n",
    "plt.figure()\n",
    "plt.hist(yt_filter[filter_peaks], bins=1500, log=False,histtype='step')\n",
    "plt.show(block=True)\n"
   ]
  },
  {
   "cell_type": "markdown",
   "metadata": {},
   "source": [
    "We can set the regime of one photon as from 0-250, 2 photos as 250-500 and 3 photons as 500-750. Eventually might want more sophisticated analysis\n",
    "*** USE ABOVE HISTOGRAM TO ANALYZE ***"
   ]
  },
  {
   "cell_type": "code",
   "execution_count": 36,
   "metadata": {},
   "outputs": [
    {
     "name": "stdout",
     "output_type": "stream",
     "text": [
      "total peaks:  5384\n",
      "single peaks:  1631\n",
      "double peaks:  3726\n",
      "triple peaks:  27\n"
     ]
    }
   ],
   "source": [
    "photon_ranges = [60, 170]\n",
    "\n",
    "single_peaks = []\n",
    "double_peaks = []\n",
    "triple_peaks = []\n",
    "for i in range(len(filter_peaks)):\n",
    "    if yt_filter[filter_peaks[i]] < photon_ranges[0]:\n",
    "        single_peaks.append(filter_peaks[i])\n",
    "    elif yt_filter[filter_peaks[i]] < photon_ranges[1]:\n",
    "        double_peaks.append(filter_peaks[i])\n",
    "    else:\n",
    "        triple_peaks.append(filter_peaks[i])\n",
    "\n",
    "print(\"total peaks: \", len(filter_peaks))\n",
    "print(\"single peaks: \", len(single_peaks))\n",
    "print(\"double peaks: \", len(double_peaks))\n",
    "print(\"triple peaks: \", len(triple_peaks))\n",
    "\n",
    "filter_peaks = single_peaks\n",
    "\n",
    "plt.figure()\n",
    "plt.hist(yt_filter[filter_peaks], bins=500, log=False,histtype='step')\n",
    "plt.show(block=True)\n",
    "        \n",
    "x2 = matA['T1'][0,:]\n",
    "y2 = matA['Y1'][0,:]\n",
    "\n",
    "#plt.plot(x2[:100000],y2[:100000])\n",
    "#plt.show()"
   ]
  },
  {
   "cell_type": "code",
   "execution_count": 9,
   "metadata": {},
   "outputs": [],
   "source": [
    "from scipy import stats\n",
    "#we are assuming the noise threshold is at 8150\n",
    "yt_opo = np.clip(y2, a_min=zero_level,a_max=None)\n",
    "yt_opo -= zero_level\n",
    "#decrese everything by noise threshold, clip to 0\n",
    "\n",
    "#plt.plot(x2[:100000],ytB[:100000])\n",
    "#plt.show()"
   ]
  },
  {
   "cell_type": "code",
   "execution_count": 10,
   "metadata": {},
   "outputs": [],
   "source": [
    "from scipy.signal import find_peaks\n",
    "\n",
    "opo_peaks, _ = find_peaks(yt_opo, height=0,distance=15) #peaks are the x indices\n",
    "\n",
    "plt.figure()\n",
    "# plot graph with detected peaks over it\n",
    "plt.plot(x2,yt_opo)\n",
    "plt.plot(x2[opo_peaks], yt_opo[opo_peaks], \"x\")\n",
    "\n",
    "#formatting\n",
    "plt.xticks(rotation='vertical')\n",
    "#plt.ticklabel_format(style='sci', axis='x', scilimits=(0,0))\n",
    "plt.xlabel(\"Time (s)\")\n",
    "#plt.show(block=True)\n",
    "\n",
    "plt.figure()\n",
    "plt.hist(yt_opo[opo_peaks], bins=1500, log=False,histtype='step')\n",
    "#plt.ylim(0,25)\n",
    "plt.show(block=True)"
   ]
  },
  {
   "cell_type": "markdown",
   "metadata": {},
   "source": [
    "# 2. Let's try to calculate the Heralding Ratio"
   ]
  },
  {
   "cell_type": "markdown",
   "metadata": {},
   "source": [
    "Heralding Ratio = coincidences/total peaks for all photon amounts"
   ]
  },
  {
   "cell_type": "code",
   "execution_count": 11,
   "metadata": {
    "scrolled": true
   },
   "outputs": [
    {
     "name": "stdout",
     "output_type": "stream",
     "text": [
      "window: 0  ratio: 0.00687221396731055\n",
      "window: 1  ratio: 0.02526002971768202\n",
      "window: 2  ratio: 0.09528231797919762\n",
      "window: 3  ratio: 0.23736998514115898\n",
      "window: 4  ratio: 0.3138930163447251\n"
     ]
    }
   ],
   "source": [
    "#would want to use a set data structure for B for faster run-time\n",
    "def peakInRange(peakI, peaksA,rng):\n",
    "    for i in range(-rng,rng+1):\n",
    "        if (peakI+i in peaksA):\n",
    "            return True\n",
    "    return False\n",
    "        \n",
    "def findRatioInRange(rng,filter_peaks, opo_peaks):\n",
    "    coincidences= 0\n",
    "    for peakI in filter_peaks:\n",
    "        if peakInRange(peakI,opo_peaks,rng):\n",
    "            coincidences+=1\n",
    "    return coincidences/filter_peaks.shape[0]\n",
    "\n",
    "#heralding ratios for different windows\n",
    "ratios = []\n",
    "for i in range (0,5):\n",
    "    ratios.append(findRatioInRange(i, filter_peaks, opo_peaks))\n",
    "    print(\"window: \"+ str(i), \" ratio: \" + str(ratios[i]))"
   ]
  },
  {
   "cell_type": "markdown",
   "metadata": {},
   "source": [
    "For 2017.10.18_17.10.19_1 data\n",
    "\n",
    "window: 0  ratio: 0.08497961743493258\n",
    "window: 1  ratio: 0.21730950141110067\n",
    "window: 2  ratio: 0.3101285669488868\n",
    "window: 3  ratio: 0.3759799310128567\n",
    "window: 4  ratio: 0.4179993728441518\n",
    "window: 5  ratio: 0.455942301661963\n",
    "window: 6  ratio: 0.4825964252116651\n",
    "window: 7  ratio: 0.5152085293195359\n",
    "window: 8  ratio: 0.5453120100344936\n",
    "window: 9  ratio: 0.5678896205707118\n",
    "window: 10  ratio: 0.5876450297899027\n",
    "window: 11  ratio: 0.6095954844778928\n",
    "window: 12  ratio: 0.6284101599247413\n",
    "window: 13  ratio: 0.6412668548134212\n",
    "window: 14  ratio: 0.6647851991219819\n",
    "window: 15  ratio: 0.6792097836312324\n",
    "window: 16  ratio: 0.6895578551269991\n",
    "window: 17  ratio: 0.6973973032298526\n",
    "window: 18  ratio: 0.7105675760426466\n",
    "\n",
    "window: 19  ratio: 0.7234242709313264"
   ]
  },
  {
   "cell_type": "markdown",
   "metadata": {},
   "source": [
    "For 2018.10.29_18.57.37_1 data\n",
    "\n",
    "window: 0  ratio: 0.00687221396731055\n",
    "window: 1  ratio: 0.02526002971768202\n",
    "window: 2  ratio: 0.09528231797919762\n",
    "window: 3  ratio: 0.23736998514115898\n",
    "window: 4  ratio: 0.3138930163447251\n",
    "window: 5  ratio: 0.3385958395245171\n",
    "window: 6  ratio: 0.35085438335809804\n",
    "window: 7  ratio: 0.3638558692421991\n",
    "window: 8  ratio: 0.3725854383358098\n",
    "window: 9  ratio: 0.3835438335809807\n",
    "window: 10  ratio: 0.39561664190193163\n",
    "window: 11  ratio: 0.4062035661218425\n",
    "window: 12  ratio: 0.4156760772659733\n",
    "window: 13  ratio: 0.42329123328380386\n",
    "window: 14  ratio: 0.4312778603268945\n",
    "window: 15  ratio: 0.4414933135215453\n",
    "window: 16  ratio: 0.45170876671619614\n",
    "window: 17  ratio: 0.4606240713224368\n",
    "window: 18  ratio: 0.4723254086181278\n",
    "window: 19  ratio: 0.4810549777117385"
   ]
  },
  {
   "cell_type": "markdown",
   "metadata": {},
   "source": [
    "# 3. Heralding Ratio with Multiplied Channels"
   ]
  },
  {
   "cell_type": "code",
   "execution_count": 18,
   "metadata": {},
   "outputs": [],
   "source": [
    "mulChannel = yt_filter * yt_opo\n",
    "plt.plot(x1,mulChannel)\n",
    "# plt.show(block=True)\n",
    "\n",
    "mul_peaks, _ = find_peaks(mulChannel, height=0,distance=15) #peaks are the x indices\n",
    "\n",
    "plt.figure()\n",
    "plt.hist(mulChannel[mul_peaks], bins=500, log=False,histtype='step')\n",
    "plt.show(block=True)"
   ]
  },
  {
   "cell_type": "code",
   "execution_count": 19,
   "metadata": {},
   "outputs": [
    {
     "name": "stdout",
     "output_type": "stream",
     "text": [
      "Heralding Ratio: 0.44483655274888556\n"
     ]
    }
   ],
   "source": [
    "print(\"Heralding Ratio: \" + str(len(mul_peaks)/len(filter_peaks)))"
   ]
  }
 ],
 "metadata": {
  "kernelspec": {
   "display_name": "Python 3",
   "language": "python",
   "name": "python3"
  },
  "language_info": {
   "codemirror_mode": {
    "name": "ipython",
    "version": 3
   },
   "file_extension": ".py",
   "mimetype": "text/x-python",
   "name": "python",
   "nbconvert_exporter": "python",
   "pygments_lexer": "ipython3",
   "version": "3.6.5"
  }
 },
 "nbformat": 4,
 "nbformat_minor": 2
}
